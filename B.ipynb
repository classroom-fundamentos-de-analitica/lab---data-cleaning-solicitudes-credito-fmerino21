{
 "cells": [
  {
   "cell_type": "code",
   "execution_count": 15,
   "metadata": {},
   "outputs": [],
   "source": [
    "import pandas as pd\n",
    "import datetime as dt\n",
    "\n",
    "def campo_a_minuscula(df,campo):\n",
    "    df[campo] = df[campo].str.capitalize()\n",
    "    return df\n",
    "\n",
    "def borrar_char(df,campo):\n",
    "    df[campo] = df[campo].str.replace('_',' ')\n",
    "    df[campo] = df[campo].str.replace('-',' ')\n",
    "    return df\n",
    "\n",
    "def clean_data():\n",
    "    \n",
    "\n",
    "    df = pd.read_csv(\"solicitudes_credito.csv\", sep=\";\", index_col = 0)\n",
    "    \n",
    "    # Tenga en cuenta datos faltantes\n",
    "    df.dropna(axis = 0, inplace = True)\n",
    "    df.drop_duplicates(inplace = True)\n",
    "\n",
    "    df = campo_a_minuscula(df, 'sexo')\n",
    "    df = campo_a_minuscula(df, 'tipo_de_emprendimiento')\n",
    "    df = campo_a_minuscula(df, 'idea_negocio')\n",
    "    df = campo_a_minuscula(df, 'barrio')\n",
    "    df = campo_a_minuscula(df,'línea_credito')\n",
    "    df = borrar_char(df, 'idea_negocio')\n",
    "    df = borrar_char(df, 'barrio')\n",
    "    print(len(df))\n",
    "    df = borrar_char(df,'línea_credito')\n",
    "    df['monto_del_credito'] = df['monto_del_credito'].str.replace('$',\"\",regex=False)\n",
    "    df['monto_del_credito'] = df['monto_del_credito'].str.replace('.00',\"\",regex=False)\n",
    "    df['monto_del_credito'] = df['monto_del_credito'].str.replace(',',\"\")\n",
    "    df['monto_del_credito'] = df['monto_del_credito'].astype(int)\n",
    "    df['comuna_ciudadano'] = df['comuna_ciudadano'].astype(float)\n",
    "    df['fecha_de_beneficio'] = df['fecha_de_beneficio'].apply(lambda x: dt.datetime.strptime(x, \"%d/%m/%Y\") if (x[-5] == '/' and x[-8] == '/') else dt.datetime.strptime(x, \"%Y/%m/%d\"))\n",
    "\n",
    "\n",
    "    # Tenga en cuenta duplicados\n",
    "    df.drop_duplicates(inplace = True)\n",
    "    return df"
   ]
  },
  {
   "cell_type": "code",
   "execution_count": 16,
   "metadata": {},
   "outputs": [
    {
     "name": "stdout",
     "output_type": "stream",
     "text": [
      "10497\n"
     ]
    },
    {
     "data": {
      "text/plain": [
       "Robledo                   1001\n",
       "Manrique central no. 1     494\n",
       "San javier no.1            435\n",
       "Aranjuez                   391\n",
       "Belen                      386\n",
       "                          ... \n",
       "Oriente                      1\n",
       "Brasilia                     1\n",
       "Barrio colombia              1\n",
       "San isidro                   1\n",
       "Los angeles                  1\n",
       "Name: barrio, Length: 225, dtype: int64"
      ]
     },
     "execution_count": 16,
     "metadata": {},
     "output_type": "execute_result"
    }
   ],
   "source": [
    "clean_data()['barrio'].value_counts()"
   ]
  }
 ],
 "metadata": {
  "kernelspec": {
   "display_name": "Python 3.9.7 64-bit",
   "language": "python",
   "name": "python3"
  },
  "language_info": {
   "codemirror_mode": {
    "name": "ipython",
    "version": 3
   },
   "file_extension": ".py",
   "mimetype": "text/x-python",
   "name": "python",
   "nbconvert_exporter": "python",
   "pygments_lexer": "ipython3",
   "version": "3.9.7"
  },
  "orig_nbformat": 4,
  "vscode": {
   "interpreter": {
    "hash": "e7ff8f1df8a21c9a2e6e4eaf996e4b68432b0651a19ed7cd6bd28e8f473e4ff2"
   }
  }
 },
 "nbformat": 4,
 "nbformat_minor": 2
}
