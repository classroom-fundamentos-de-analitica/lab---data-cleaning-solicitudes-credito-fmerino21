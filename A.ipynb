{
 "cells": [
  {
   "cell_type": "code",
   "execution_count": 532,
   "metadata": {},
   "outputs": [],
   "source": [
    "import pandas as pd"
   ]
  },
  {
   "cell_type": "code",
   "execution_count": 533,
   "metadata": {},
   "outputs": [],
   "source": [
    "df = pd.read_csv(\"solicitudes_credito.csv\", sep=\";\", index_col=0)"
   ]
  },
  {
   "cell_type": "code",
   "execution_count": 534,
   "metadata": {},
   "outputs": [
    {
     "data": {
      "text/html": [
       "<div>\n",
       "<style scoped>\n",
       "    .dataframe tbody tr th:only-of-type {\n",
       "        vertical-align: middle;\n",
       "    }\n",
       "\n",
       "    .dataframe tbody tr th {\n",
       "        vertical-align: top;\n",
       "    }\n",
       "\n",
       "    .dataframe thead th {\n",
       "        text-align: right;\n",
       "    }\n",
       "</style>\n",
       "<table border=\"1\" class=\"dataframe\">\n",
       "  <thead>\n",
       "    <tr style=\"text-align: right;\">\n",
       "      <th></th>\n",
       "      <th>sexo</th>\n",
       "      <th>tipo_de_emprendimiento</th>\n",
       "      <th>idea_negocio</th>\n",
       "      <th>barrio</th>\n",
       "      <th>estrato</th>\n",
       "      <th>comuna_ciudadano</th>\n",
       "      <th>fecha_de_beneficio</th>\n",
       "      <th>monto_del_credito</th>\n",
       "      <th>línea_credito</th>\n",
       "    </tr>\n",
       "  </thead>\n",
       "  <tbody>\n",
       "    <tr>\n",
       "      <th>0</th>\n",
       "      <td>masculino</td>\n",
       "      <td>COMERCIO</td>\n",
       "      <td>charcuteria</td>\n",
       "      <td>manrique central no. 2</td>\n",
       "      <td>1</td>\n",
       "      <td>3.0</td>\n",
       "      <td>28/12/2017</td>\n",
       "      <td>7000000</td>\n",
       "      <td>microempresarial</td>\n",
       "    </tr>\n",
       "    <tr>\n",
       "      <th>1</th>\n",
       "      <td>masculino</td>\n",
       "      <td>comercio</td>\n",
       "      <td>distribuidora de</td>\n",
       "      <td>santa lucia</td>\n",
       "      <td>2</td>\n",
       "      <td>12.0</td>\n",
       "      <td>16/03/2018</td>\n",
       "      <td>$ 7,000,000.00</td>\n",
       "      <td>microempresarial</td>\n",
       "    </tr>\n",
       "    <tr>\n",
       "      <th>2</th>\n",
       "      <td>masculino</td>\n",
       "      <td>comercio</td>\n",
       "      <td>tienda</td>\n",
       "      <td>belen</td>\n",
       "      <td>3</td>\n",
       "      <td>16.0</td>\n",
       "      <td>2018/02/14</td>\n",
       "      <td>7800000</td>\n",
       "      <td>microempresarial</td>\n",
       "    </tr>\n",
       "    <tr>\n",
       "      <th>3</th>\n",
       "      <td>masculino</td>\n",
       "      <td>servicio</td>\n",
       "      <td>organización y</td>\n",
       "      <td>robledo</td>\n",
       "      <td>2</td>\n",
       "      <td>7.0</td>\n",
       "      <td>8/09/2016</td>\n",
       "      <td>1500000</td>\n",
       "      <td>microempresarial</td>\n",
       "    </tr>\n",
       "    <tr>\n",
       "      <th>4</th>\n",
       "      <td>masculino</td>\n",
       "      <td>servicio</td>\n",
       "      <td>COMIDAS RAPIDAS</td>\n",
       "      <td>20 de julio</td>\n",
       "      <td>2</td>\n",
       "      <td>13.0</td>\n",
       "      <td>20/12/2016</td>\n",
       "      <td>3000000</td>\n",
       "      <td>microempresarial</td>\n",
       "    </tr>\n",
       "    <tr>\n",
       "      <th>...</th>\n",
       "      <td>...</td>\n",
       "      <td>...</td>\n",
       "      <td>...</td>\n",
       "      <td>...</td>\n",
       "      <td>...</td>\n",
       "      <td>...</td>\n",
       "      <td>...</td>\n",
       "      <td>...</td>\n",
       "      <td>...</td>\n",
       "    </tr>\n",
       "    <tr>\n",
       "      <th>10915</th>\n",
       "      <td>femenino</td>\n",
       "      <td>industria</td>\n",
       "      <td>cafeteria</td>\n",
       "      <td>santo domingo savio</td>\n",
       "      <td>1</td>\n",
       "      <td>1.0</td>\n",
       "      <td>22/06/2018</td>\n",
       "      <td>1000000</td>\n",
       "      <td>microempresarial</td>\n",
       "    </tr>\n",
       "    <tr>\n",
       "      <th>10916</th>\n",
       "      <td>femenino</td>\n",
       "      <td>comercio</td>\n",
       "      <td>variedades</td>\n",
       "      <td>villa del socorro</td>\n",
       "      <td>2</td>\n",
       "      <td>2.0</td>\n",
       "      <td>1/04/2019</td>\n",
       "      <td>7000000</td>\n",
       "      <td>microempresarial</td>\n",
       "    </tr>\n",
       "    <tr>\n",
       "      <th>10917</th>\n",
       "      <td>femenino</td>\n",
       "      <td>comercio</td>\n",
       "      <td>comidas rapidas</td>\n",
       "      <td>la libertad</td>\n",
       "      <td>2</td>\n",
       "      <td>8.0</td>\n",
       "      <td>22/05/2018</td>\n",
       "      <td>7812000</td>\n",
       "      <td>microempresarial</td>\n",
       "    </tr>\n",
       "    <tr>\n",
       "      <th>10918</th>\n",
       "      <td>femenino</td>\n",
       "      <td>comercio</td>\n",
       "      <td>almacen de ropa en</td>\n",
       "      <td>caribe</td>\n",
       "      <td>3</td>\n",
       "      <td>5.0</td>\n",
       "      <td>27/02/2019</td>\n",
       "      <td>8281000</td>\n",
       "      <td>microempresarial</td>\n",
       "    </tr>\n",
       "    <tr>\n",
       "      <th>10919</th>\n",
       "      <td>femenino</td>\n",
       "      <td>servicio</td>\n",
       "      <td>fabrica de alimentos</td>\n",
       "      <td>andalucia</td>\n",
       "      <td>2</td>\n",
       "      <td>2.0</td>\n",
       "      <td>8/06/2017</td>\n",
       "      <td>30000000</td>\n",
       "      <td>empresarial ed.</td>\n",
       "    </tr>\n",
       "  </tbody>\n",
       "</table>\n",
       "<p>10920 rows × 9 columns</p>\n",
       "</div>"
      ],
      "text/plain": [
       "            sexo tipo_de_emprendimiento          idea_negocio  \\\n",
       "0      masculino               COMERCIO           charcuteria   \n",
       "1      masculino               comercio     distribuidora de    \n",
       "2      masculino               comercio                tienda   \n",
       "3      masculino               servicio       organización y    \n",
       "4      masculino               servicio       COMIDAS RAPIDAS   \n",
       "...          ...                    ...                   ...   \n",
       "10915   femenino              industria             cafeteria   \n",
       "10916   femenino               comercio            variedades   \n",
       "10917   femenino               comercio       comidas rapidas   \n",
       "10918   femenino               comercio   almacen de ropa en    \n",
       "10919   femenino               servicio  fabrica de alimentos   \n",
       "\n",
       "                       barrio  estrato  comuna_ciudadano fecha_de_beneficio  \\\n",
       "0      manrique central no. 2        1               3.0         28/12/2017   \n",
       "1                 santa lucia        2              12.0         16/03/2018   \n",
       "2                       belen        3              16.0         2018/02/14   \n",
       "3                     robledo        2               7.0          8/09/2016   \n",
       "4                 20 de julio        2              13.0         20/12/2016   \n",
       "...                       ...      ...               ...                ...   \n",
       "10915    santo domingo savio         1               1.0         22/06/2018   \n",
       "10916       villa del socorro        2               2.0          1/04/2019   \n",
       "10917             la libertad        2               8.0         22/05/2018   \n",
       "10918                  caribe        3               5.0         27/02/2019   \n",
       "10919               andalucia        2               2.0          8/06/2017   \n",
       "\n",
       "      monto_del_credito     línea_credito  \n",
       "0               7000000  microempresarial  \n",
       "1        $ 7,000,000.00  microempresarial  \n",
       "2               7800000  microempresarial  \n",
       "3               1500000  microempresarial  \n",
       "4               3000000  microempresarial  \n",
       "...                 ...               ...  \n",
       "10915           1000000  microempresarial  \n",
       "10916           7000000  microempresarial  \n",
       "10917           7812000  microempresarial  \n",
       "10918           8281000  microempresarial  \n",
       "10919          30000000  empresarial ed.   \n",
       "\n",
       "[10920 rows x 9 columns]"
      ]
     },
     "execution_count": 534,
     "metadata": {},
     "output_type": "execute_result"
    }
   ],
   "source": [
    "df"
   ]
  },
  {
   "cell_type": "code",
   "execution_count": 535,
   "metadata": {},
   "outputs": [],
   "source": [
    "df = df.drop_duplicates()"
   ]
  },
  {
   "cell_type": "code",
   "execution_count": 536,
   "metadata": {},
   "outputs": [
    {
     "data": {
      "text/plain": [
       "sexo                        0\n",
       "tipo_de_emprendimiento    102\n",
       "idea_negocio                0\n",
       "barrio                    102\n",
       "estrato                     0\n",
       "comuna_ciudadano            0\n",
       "fecha_de_beneficio          0\n",
       "monto_del_credito           0\n",
       "línea_credito               0\n",
       "dtype: int64"
      ]
     },
     "execution_count": 536,
     "metadata": {},
     "output_type": "execute_result"
    }
   ],
   "source": [
    "df.isna().sum()"
   ]
  },
  {
   "cell_type": "code",
   "execution_count": 537,
   "metadata": {},
   "outputs": [],
   "source": [
    "df = df.dropna()"
   ]
  },
  {
   "cell_type": "code",
   "execution_count": 538,
   "metadata": {},
   "outputs": [],
   "source": [
    "df['tipo_de_emprendimiento'] = df['tipo_de_emprendimiento'].apply(lambda x: str(x).lower());"
   ]
  },
  {
   "cell_type": "code",
   "execution_count": 539,
   "metadata": {},
   "outputs": [],
   "source": [
    "df['sexo'] = df['sexo'].apply(lambda x: x.lower());"
   ]
  },
  {
   "cell_type": "code",
   "execution_count": 540,
   "metadata": {},
   "outputs": [],
   "source": [
    "# Idea de negocio\n",
    "\n",
    "def clean_idea_negocio(row):\n",
    "    row = row.lower()\n",
    "    row = row.replace(\"-\", \" \")\n",
    "    row = row.replace(\"_\", \" \")\n",
    "    row = row.strip()\n",
    "\n",
    "    return row\n",
    "\n",
    "df['idea_negocio'] = df['idea_negocio'].apply(clean_idea_negocio)"
   ]
  },
  {
   "cell_type": "code",
   "execution_count": 541,
   "metadata": {},
   "outputs": [
    {
     "data": {
      "text/plain": [
       "array(['manrique central no. 2', 'santa lucia', 'belen', 'robledo',\n",
       "       '20 de julio', 'calasanz', 'altavista', 'manrique central no. 1',\n",
       "       'buenos aires', 'aranjuez', 'san javier no.1', 'lopez de mesa',\n",
       "       'kennedy', 'popular', 'villa guadalupe', 'la floresta', 'cordoba',\n",
       "       'santa cruz', 'campo valdes no. 1', 'andalucia', 'maria cano ',\n",
       "       'enciso', 'doce de octubre no.1', 'juan xxiii la quiebra',\n",
       "       'cabecera san antonio ', 'la avanzada', 'castilla',\n",
       "       'santa rosa de lima', 'barrio caicedo', 'prado', 'el socorro',\n",
       "       'manrique oriental', 'santander', 'moravia', 'florencia',\n",
       "       'la america', 'la pradera', 'la candelaria', 'las brisas',\n",
       "       'ROBLEDO', 'la colina', 'la milagrosa', 'san pablo', 'GUAYABAL',\n",
       "       'villa hermosa', 'la ladera', 'Sevilla', 'san german', 'sevilla',\n",
       "       'el salvador', 'miranda', 'pedregal', 'la francia', 'palermo',\n",
       "       'boston', 'CASTILLA', 'la loma', 'BARRIO DE JESUS',\n",
       "       'santa elena central', 'palmitas', 'picachito', 'blanquizal',\n",
       "       'bosques de san pablo', 'toscana', 'cabecera san cristobal',\n",
       "       'san javier no.2', 'campo valdes no. 2', 'belencito', 'boyaca',\n",
       "       'guayabal', 'picacho', 'el diamante', 'carpinelo', 'BELEN',\n",
       "       'san benito', 'santa-lucia', 'la libertad', 'granizal', 'girardot',\n",
       "       'belalcazar', 'santo domingo savio ', 'villatina', 'el_poblado',\n",
       "       'villa niza', 'las granjas', 'Manrique Central No. 1',\n",
       "       'san martin de porres', 'las palmas', 'trinidad', 'JUAN PABLO II',\n",
       "       'versalles no. 1', 'tejelo', 'San Javier No.1', 'centro admtivo',\n",
       "       'suburbano santa elena ', 'la esperanza', 'el pinal', 'bel¿n',\n",
       "       'pablo vi', 'el_salvador', 'loreto', 'villa del socorro',\n",
       "       'san diego', 'CAMPO VALDES NO. 1', 'tricentenario',\n",
       "       'manrique-central-no.-1', 'Llanaditas', 'playon de los ',\n",
       "       'campo_valdes_no._1', 'olaya herrera', 'cristo rey', 'el poblado',\n",
       "       'laureles', 'sucre', 'la aguacatala', 'alfonso lopez', 'Robledo',\n",
       "       'Playon De Los ', 'nuevos conquistadores', 'Cabecera San Antonio ',\n",
       "       'san antonio', 'metropolitano', 'MANRIQUE CENTRAL NO. 2',\n",
       "       'santa ines', 'el compromiso', 'santa margarita',\n",
       "       'calasanz parte alta', 'eduardo santos', 'versalles no. 2',\n",
       "       'progreso', 'llanaditas', 'la florida', 'aures no. 2',\n",
       "       'barrio colon', 'Pedregal', 'Naranjal', 'Aranjuez', 'san_pablo',\n",
       "       'suburbano altavista', 'universidad de ', '20_de_julio',\n",
       "       'Santa Lucia', 'la isla', 'antonio nariño',\n",
       "       'francisco antonio zea', 'cabecera_san_cristobal', 'la sierra',\n",
       "       'MORAVIA', 'santa teresita', 'CABECERA SAN CRISTOBAL',\n",
       "       'el pesebre', 'ARANJUEZ', 'POPULAR', 'bello horizonte',\n",
       "       'la_floresta', 'san jose de la cima no. ', 'villa_hermosa',\n",
       "       'Andalucia', 'las violetas', 'el chagualo', 'campo alegre',\n",
       "       'jesus nazareno', 'parque norte', 'carlos e. restrepo', 'PABLO VI',\n",
       "       'BUENOS AIRES', 'la esperanza no. 2', 'LORETO', 'Enciso',\n",
       "       'bombona no. 1', 'san pedro', 'cabecera-san-cristobal',\n",
       "       'el corazon', 'Castilla', 'Belen', 'fatima', 'aguas frias',\n",
       "       'san josé de la montaña', 'la-floresta', 'villa liliam',\n",
       "       'manrique_central_no._1', 'jardin botanico',\n",
       "       'Nuevos Conquistadores', 'Carpinelo', '13 de noviembre',\n",
       "       'Manrique Oriental', 'doce_de_octubre_no.1',\n",
       "       'santo_domingo_savio_', 'Centro Admtivo', 'moscu no. 1',\n",
       "       'los mangos', 'el salado ', 'barrio-caicedo', 'rosales', 'ENCISO',\n",
       "       'la hondonada', 'santa monica', 'LA AMERICA', 'cataluna',\n",
       "       'MANRIQUE ORIENTAL', 'la salle', 'oleoducto', 'SAN PABLO',\n",
       "       'Barrio Caicedo', 'el salado', 'santa fe', 'el rodeo',\n",
       "       'santo-domingo-savio-', 'la frontera', '20 DE JULIO',\n",
       "       'Campo Valdes No. 1', 'villa flora', 'ANDALUCIA',\n",
       "       'SAN JAVIER NO.1', 'cabecera_san_antonio_',\n",
       "       'Cabecera San Cristobal', 'manrique-oriental', 'miraflores',\n",
       "       'villa nueva', 'VILLA HERMOSA', 'antonio nari¿o',\n",
       "       'Santa Elena Central', 'manrique-central-no.-2', 'la cruz',\n",
       "       'san_javier_no.1', 'Doce De Octubre No.1', 'san-diego',\n",
       "       'ocho de marzo', 'campo amor', 'pedregal alto', 'PLAYON DE LOS ',\n",
       "       'el vergel', 'pedregal_alto', 'el triunfo',\n",
       "       'juan-xxiii-la-quiebra', 'lopez-de-mesa', 'VILLA DEL SOCORRO',\n",
       "       'miravalle', 'Pablo Vi', 'pajarito', 'Popular', 'Florencia',\n",
       "       'MANRIQUE CENTRAL NO. 1', 'El Salvador', 'florida nueva',\n",
       "       'FLORENCIA', 'Moravia', 'santa_cruz', 'El Chagualo',\n",
       "       'los alcazares', 'manrique_central_no._2', 'monteclaro',\n",
       "       'zona expansion san ', 'el estadio', 'palenque',\n",
       "       'los cerros el vergel', 'San Diego', 'Buenos Aires',\n",
       "       'loma de los bernal', 'hector abad gomez', 'la_pradera',\n",
       "       'Villatina', 'san jose de la cima no.', 'campo-valdes-no.-1',\n",
       "       'la loma oriental', 'moscu no. 2', 'el llano', 'san_benito',\n",
       "       'CENTRO ADMTIVO', 'la volcana y guayabal', 'barrio_caicedo',\n",
       "       'la palma', 'PEDREGAL', 'granada', 'alejandro echavarria',\n",
       "       'mirador del doce', 'la-milagrosa', 'Palmitas', 'playon-de-los-',\n",
       "       'LOS MANGOS', 'CABECERA SAN ANTONIO ', 'sin barrio',\n",
       "       'la-aguacatala', 'la aldea', 'las independencias',\n",
       "       'Manrique Central No. 2', 'El Socorro', 'manrique_oriental',\n",
       "       'el-salvador', 'EDUARDO SANTOS', 'BOMBONA NO. 2',\n",
       "       'Villa Del Socorro', 'Boston', 'gerona', 'oriente', 'brasilia',\n",
       "       'san-jose-de-la-cima-no.-', 'JARDIN BOTANICO', 'juan pablo ii',\n",
       "       'BLANQUIZAL', 'Altavista', 'barrio colombia', 'san bernardo',\n",
       "       'san isidro', 'la oculta', 'veinte de julio', 'SUCRE', 'PICACHITO',\n",
       "       'yarumalito', 'Santander', 'VILLATINA', 'barrio cristobal',\n",
       "       'el_diamante', 'Santo Domingo Savio ', 'CAMPO VALDES NO. 2',\n",
       "       'vrda. san antonio ', 'la cuchilla', 'BELENCITO', 'GRANIZAL',\n",
       "       'francisco_antonio_zea', 'cabecera-san-antonio-', 'San German',\n",
       "       'vrda. santa elena ', 'el rincon', 'vrda. palmitas ', 'naranjal',\n",
       "       'san_javier_no.2', 'caribe', 'el progreso no.2', 'EL SOCORRO',\n",
       "       'vrda. san cristobal ', 'la_milagrosa', 'altamira', 'buenos-aires',\n",
       "       'fuente clara', 'suburbano barro ', 'el_socorro', 'el astillero',\n",
       "       'betania', 'santa maria de los ', 'la-esperanza', 'bombona no. 2',\n",
       "       'el-chagualo', 'el raizal', 'Belencito', 'villa turbay',\n",
       "       'Zona Expansion San ', 'la-pradera', 'SANTA CRUZ', 'Alfonso-Lopez',\n",
       "       'doce de octubre no.2', 'san-martin-de-porres', 'Cordoba',\n",
       "       'SANTA ROSA DE LIMA', 'La Milagrosa', 'Lopez De Mesa',\n",
       "       'las_palmas', 'Guayabal', 'KENNEDY', 'barro blanco', 'VILLA NIZA',\n",
       "       'Toscana', 'BOMBONA NO. 1', 'francisco-antonio-zea', 'manila',\n",
       "       'CRISTO REY', 'NUEVOS CONQUISTADORES', 'Las Brisas',\n",
       "       'villa-hermosa', 'BARRIO CAICEDO', 'SAN JOSE DE LA CIMA NO. ',\n",
       "       'La America', 'CALASANZ', 'las esmeraldas', 'la_sierra',\n",
       "       'travesias', 'aures no.1', 'Santa Cruz', 'Villa Hermosa',\n",
       "       'el-corazon', '20 De Julio', 'la-sierra', 'buenos_aires',\n",
       "       'SANTANDER', 'centro-admtivo', 'la mansion', 'san joaquin',\n",
       "       'los angeles'], dtype=object)"
      ]
     },
     "execution_count": 541,
     "metadata": {},
     "output_type": "execute_result"
    }
   ],
   "source": [
    "df['barrio'].unique()"
   ]
  },
  {
   "cell_type": "code",
   "execution_count": 542,
   "metadata": {},
   "outputs": [],
   "source": [
    "# Barrio\n",
    "\n",
    "def clean_barrio(row):\n",
    "    row = row.lower()\n",
    "    row = row.replace(\"-\", \" \")\n",
    "    row = row.replace(\"_\", \" \")\n",
    "    row = row.strip()\n",
    "\n",
    "    return row\n",
    "\n",
    "df['barrio'] = df['barrio'].apply(clean_barrio)\n",
    "#df['barrio'].value_counts()"
   ]
  },
  {
   "cell_type": "code",
   "execution_count": 543,
   "metadata": {},
   "outputs": [
    {
     "data": {
      "text/plain": [
       "array(['manrique central no. 2', 'santa lucia', 'belen', 'robledo',\n",
       "       '20 de julio', 'calasanz', 'altavista', 'manrique central no. 1',\n",
       "       'buenos aires', 'aranjuez', 'san javier no.1', 'lopez de mesa',\n",
       "       'kennedy', 'popular', 'villa guadalupe', 'la floresta', 'cordoba',\n",
       "       'santa cruz', 'campo valdes no. 1', 'andalucia', 'maria cano',\n",
       "       'enciso', 'doce de octubre no.1', 'juan xxiii la quiebra',\n",
       "       'cabecera san antonio', 'la avanzada', 'castilla',\n",
       "       'santa rosa de lima', 'barrio caicedo', 'prado', 'el socorro',\n",
       "       'manrique oriental', 'santander', 'moravia', 'florencia',\n",
       "       'la america', 'la pradera', 'la candelaria', 'las brisas',\n",
       "       'la colina', 'la milagrosa', 'san pablo', 'guayabal',\n",
       "       'villa hermosa', 'la ladera', 'sevilla', 'san german',\n",
       "       'el salvador', 'miranda', 'pedregal', 'la francia', 'palermo',\n",
       "       'boston', 'la loma', 'barrio de jesus', 'santa elena central',\n",
       "       'palmitas', 'picachito', 'blanquizal', 'bosques de san pablo',\n",
       "       'toscana', 'cabecera san cristobal', 'san javier no.2',\n",
       "       'campo valdes no. 2', 'belencito', 'boyaca', 'picacho',\n",
       "       'el diamante', 'carpinelo', 'san benito', 'la libertad',\n",
       "       'granizal', 'girardot', 'belalcazar', 'santo domingo savio',\n",
       "       'villatina', 'el poblado', 'villa niza', 'las granjas',\n",
       "       'san martin de porres', 'las palmas', 'trinidad', 'juan pablo ii',\n",
       "       'versalles no. 1', 'tejelo', 'centro admtivo',\n",
       "       'suburbano santa elena', 'la esperanza', 'el pinal', 'bel¿n',\n",
       "       'pablo vi', 'loreto', 'villa del socorro', 'san diego',\n",
       "       'tricentenario', 'llanaditas', 'playon de los', 'olaya herrera',\n",
       "       'cristo rey', 'laureles', 'sucre', 'la aguacatala',\n",
       "       'alfonso lopez', 'nuevos conquistadores', 'san antonio',\n",
       "       'metropolitano', 'santa ines', 'el compromiso', 'santa margarita',\n",
       "       'calasanz parte alta', 'eduardo santos', 'versalles no. 2',\n",
       "       'progreso', 'la florida', 'aures no. 2', 'barrio colon',\n",
       "       'naranjal', 'suburbano altavista', 'universidad de', 'la isla',\n",
       "       'antonio nariño', 'francisco antonio zea', 'la sierra',\n",
       "       'santa teresita', 'el pesebre', 'bello horizonte',\n",
       "       'san jose de la cima no.', 'las violetas', 'el chagualo',\n",
       "       'campo alegre', 'jesus nazareno', 'parque norte',\n",
       "       'carlos e. restrepo', 'la esperanza no. 2', 'bombona no. 1',\n",
       "       'san pedro', 'el corazon', 'fatima', 'aguas frias',\n",
       "       'san josé de la montaña', 'villa liliam', 'jardin botanico',\n",
       "       '13 de noviembre', 'moscu no. 1', 'los mangos', 'el salado',\n",
       "       'rosales', 'la hondonada', 'santa monica', 'cataluna', 'la salle',\n",
       "       'oleoducto', 'santa fe', 'el rodeo', 'la frontera', 'villa flora',\n",
       "       'miraflores', 'villa nueva', 'antonio nari¿o', 'la cruz',\n",
       "       'ocho de marzo', 'campo amor', 'pedregal alto', 'el vergel',\n",
       "       'el triunfo', 'miravalle', 'pajarito', 'florida nueva',\n",
       "       'los alcazares', 'monteclaro', 'zona expansion san', 'el estadio',\n",
       "       'palenque', 'los cerros el vergel', 'loma de los bernal',\n",
       "       'hector abad gomez', 'la loma oriental', 'moscu no. 2', 'el llano',\n",
       "       'la volcana y guayabal', 'la palma', 'granada',\n",
       "       'alejandro echavarria', 'mirador del doce', 'sin barrio',\n",
       "       'la aldea', 'las independencias', 'bombona no. 2', 'gerona',\n",
       "       'oriente', 'brasilia', 'barrio colombia', 'san bernardo',\n",
       "       'san isidro', 'la oculta', 'veinte de julio', 'yarumalito',\n",
       "       'barrio cristobal', 'vrda. san antonio', 'la cuchilla',\n",
       "       'vrda. santa elena', 'el rincon', 'vrda. palmitas', 'caribe',\n",
       "       'el progreso no.2', 'vrda. san cristobal', 'altamira',\n",
       "       'fuente clara', 'suburbano barro', 'el astillero', 'betania',\n",
       "       'santa maria de los', 'el raizal', 'villa turbay',\n",
       "       'doce de octubre no.2', 'barro blanco', 'manila', 'las esmeraldas',\n",
       "       'travesias', 'aures no.1', 'la mansion', 'san joaquin',\n",
       "       'los angeles'], dtype=object)"
      ]
     },
     "execution_count": 543,
     "metadata": {},
     "output_type": "execute_result"
    }
   ],
   "source": [
    "df['barrio'].unique()"
   ]
  },
  {
   "cell_type": "code",
   "execution_count": 544,
   "metadata": {},
   "outputs": [],
   "source": [
    "# Estrato\n",
    "\n",
    "# OK"
   ]
  },
  {
   "cell_type": "code",
   "execution_count": 545,
   "metadata": {},
   "outputs": [],
   "source": [
    "# Comuna\n",
    "\n",
    "df['comuna_ciudadano'] = df['comuna_ciudadano'].astype(float)"
   ]
  },
  {
   "cell_type": "code",
   "execution_count": 546,
   "metadata": {},
   "outputs": [
    {
     "data": {
      "text/plain": [
       "0        2017/12/28\n",
       "1        2018/03/16\n",
       "2        2018/02/14\n",
       "3         2016/09/8\n",
       "4        2016/12/20\n",
       "            ...    \n",
       "10913     2018/07/4\n",
       "10914    2018/03/20\n",
       "10915    2018/06/22\n",
       "10918    2019/02/27\n",
       "10919     2017/06/8\n",
       "Name: fecha_de_beneficio, Length: 10497, dtype: object"
      ]
     },
     "execution_count": 546,
     "metadata": {},
     "output_type": "execute_result"
    }
   ],
   "source": [
    "# Fecha\n",
    "\n",
    "def clean_date(row):\n",
    "    row_split = row.split(\"/\")\n",
    "    if len(row_split[0]) <= 2:\n",
    "        row_split[0], row_split[-1] = row_split[-1], row_split[0]\n",
    "\n",
    "    return \"/\".join(row_split)\n",
    "\n",
    "df['fecha_de_beneficio'] = df['fecha_de_beneficio'].apply(clean_date)\n",
    "df['fecha_de_beneficio']"
   ]
  },
  {
   "cell_type": "code",
   "execution_count": 547,
   "metadata": {},
   "outputs": [],
   "source": [
    "def clean_monto_credito(row):\n",
    "    row = row.replace(\"$\", \"\")\n",
    "    row = row.replace(\".00\", \"\")\n",
    "    row = row.replace(\",\", \"\")\n",
    "    #row = row.replace(\" \", \"\")\n",
    "\n",
    "    return row\n",
    "\n",
    "df['monto_del_credito'] = df['monto_del_credito'].apply(clean_monto_credito)\n",
    "df['monto_del_credito'] = df['monto_del_credito'].astype(int)"
   ]
  },
  {
   "cell_type": "code",
   "execution_count": 548,
   "metadata": {},
   "outputs": [],
   "source": [
    "def clean_linea_credito(row):\n",
    "    row = row.lower()\n",
    "    row = row.replace(\"-\", \" \")\n",
    "    row = row.replace(\"_\", \" \")\n",
    "    row = row.strip()\n",
    "\n",
    "    return row\n",
    "\n",
    "df[\"línea_credito\"] = df[\"línea_credito\"].apply(clean_linea_credito)"
   ]
  },
  {
   "cell_type": "code",
   "execution_count": 549,
   "metadata": {},
   "outputs": [
    {
     "data": {
      "text/plain": [
       "microempresarial          10307\n",
       "empresarial ed.              71\n",
       "agropecuaria                 56\n",
       "juridica y cap.semilla       33\n",
       "credioportuno                22\n",
       "fomento agropecuario          5\n",
       "solidaria                     1\n",
       "soli diaria                   1\n",
       "ayacucho formal               1\n",
       "Name: línea_credito, dtype: int64"
      ]
     },
     "execution_count": 549,
     "metadata": {},
     "output_type": "execute_result"
    }
   ],
   "source": [
    "df[\"línea_credito\"].value_counts()"
   ]
  },
  {
   "cell_type": "code",
   "execution_count": 550,
   "metadata": {},
   "outputs": [
    {
     "data": {
      "text/plain": [
       "10497"
      ]
     },
     "execution_count": 550,
     "metadata": {},
     "output_type": "execute_result"
    }
   ],
   "source": [
    "len(df)"
   ]
  },
  {
   "cell_type": "code",
   "execution_count": 551,
   "metadata": {},
   "outputs": [],
   "source": [
    "df = df.drop_duplicates()"
   ]
  },
  {
   "cell_type": "code",
   "execution_count": 552,
   "metadata": {},
   "outputs": [
    {
     "data": {
      "text/plain": [
       "10206"
      ]
     },
     "execution_count": 552,
     "metadata": {},
     "output_type": "execute_result"
    }
   ],
   "source": [
    "len(df)"
   ]
  },
  {
   "cell_type": "code",
   "execution_count": 553,
   "metadata": {},
   "outputs": [
    {
     "data": {
      "text/plain": [
       "sexo                      0\n",
       "tipo_de_emprendimiento    0\n",
       "idea_negocio              0\n",
       "barrio                    0\n",
       "estrato                   0\n",
       "comuna_ciudadano          0\n",
       "fecha_de_beneficio        0\n",
       "monto_del_credito         0\n",
       "línea_credito             0\n",
       "dtype: int64"
      ]
     },
     "execution_count": 553,
     "metadata": {},
     "output_type": "execute_result"
    }
   ],
   "source": [
    "df.isna().sum()"
   ]
  },
  {
   "cell_type": "markdown",
   "metadata": {},
   "source": [
    "-------------"
   ]
  },
  {
   "cell_type": "code",
   "execution_count": 554,
   "metadata": {},
   "outputs": [
    {
     "data": {
      "text/plain": [
       "Index(['sexo', 'tipo_de_emprendimiento', 'idea_negocio', 'barrio', 'estrato',\n",
       "       'comuna_ciudadano', 'fecha_de_beneficio', 'monto_del_credito',\n",
       "       'línea_credito'],\n",
       "      dtype='object')"
      ]
     },
     "execution_count": 554,
     "metadata": {},
     "output_type": "execute_result"
    }
   ],
   "source": [
    "df.columns"
   ]
  },
  {
   "cell_type": "code",
   "execution_count": 555,
   "metadata": {},
   "outputs": [
    {
     "data": {
      "text/plain": [
       "comercio        5636\n",
       "servicio        2205\n",
       "industria       2201\n",
       "agropecuaria     164\n",
       "Name: tipo_de_emprendimiento, dtype: int64"
      ]
     },
     "execution_count": 555,
     "metadata": {},
     "output_type": "execute_result"
    }
   ],
   "source": [
    "df[\"tipo_de_emprendimiento\"].value_counts()"
   ]
  }
 ],
 "metadata": {
  "kernelspec": {
   "display_name": "Python 3.9.7 64-bit",
   "language": "python",
   "name": "python3"
  },
  "language_info": {
   "codemirror_mode": {
    "name": "ipython",
    "version": 3
   },
   "file_extension": ".py",
   "mimetype": "text/x-python",
   "name": "python",
   "nbconvert_exporter": "python",
   "pygments_lexer": "ipython3",
   "version": "3.9.7"
  },
  "orig_nbformat": 4,
  "vscode": {
   "interpreter": {
    "hash": "e7ff8f1df8a21c9a2e6e4eaf996e4b68432b0651a19ed7cd6bd28e8f473e4ff2"
   }
  }
 },
 "nbformat": 4,
 "nbformat_minor": 2
}
