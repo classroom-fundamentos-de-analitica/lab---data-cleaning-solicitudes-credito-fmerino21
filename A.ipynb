{
 "cells": [
  {
   "cell_type": "code",
   "execution_count": 2349,
   "metadata": {},
   "outputs": [],
   "source": [
    "import pandas as pd"
   ]
  },
  {
   "cell_type": "code",
   "execution_count": 2350,
   "metadata": {},
   "outputs": [],
   "source": [
    "df = pd.read_csv(\"solicitudes_credito.csv\", sep=\";\", index_col=0)"
   ]
  },
  {
   "cell_type": "code",
   "execution_count": 2351,
   "metadata": {},
   "outputs": [
    {
     "data": {
      "text/html": [
       "<div>\n",
       "<style scoped>\n",
       "    .dataframe tbody tr th:only-of-type {\n",
       "        vertical-align: middle;\n",
       "    }\n",
       "\n",
       "    .dataframe tbody tr th {\n",
       "        vertical-align: top;\n",
       "    }\n",
       "\n",
       "    .dataframe thead th {\n",
       "        text-align: right;\n",
       "    }\n",
       "</style>\n",
       "<table border=\"1\" class=\"dataframe\">\n",
       "  <thead>\n",
       "    <tr style=\"text-align: right;\">\n",
       "      <th></th>\n",
       "      <th>sexo</th>\n",
       "      <th>tipo_de_emprendimiento</th>\n",
       "      <th>idea_negocio</th>\n",
       "      <th>barrio</th>\n",
       "      <th>estrato</th>\n",
       "      <th>comuna_ciudadano</th>\n",
       "      <th>fecha_de_beneficio</th>\n",
       "      <th>monto_del_credito</th>\n",
       "      <th>línea_credito</th>\n",
       "    </tr>\n",
       "  </thead>\n",
       "  <tbody>\n",
       "    <tr>\n",
       "      <th>0</th>\n",
       "      <td>masculino</td>\n",
       "      <td>COMERCIO</td>\n",
       "      <td>charcuteria</td>\n",
       "      <td>manrique central no. 2</td>\n",
       "      <td>1</td>\n",
       "      <td>3.0</td>\n",
       "      <td>28/12/2017</td>\n",
       "      <td>7000000</td>\n",
       "      <td>microempresarial</td>\n",
       "    </tr>\n",
       "    <tr>\n",
       "      <th>1</th>\n",
       "      <td>masculino</td>\n",
       "      <td>comercio</td>\n",
       "      <td>distribuidora de</td>\n",
       "      <td>santa lucia</td>\n",
       "      <td>2</td>\n",
       "      <td>12.0</td>\n",
       "      <td>16/03/2018</td>\n",
       "      <td>$ 7,000,000.00</td>\n",
       "      <td>microempresarial</td>\n",
       "    </tr>\n",
       "    <tr>\n",
       "      <th>2</th>\n",
       "      <td>masculino</td>\n",
       "      <td>comercio</td>\n",
       "      <td>tienda</td>\n",
       "      <td>belen</td>\n",
       "      <td>3</td>\n",
       "      <td>16.0</td>\n",
       "      <td>2018/02/14</td>\n",
       "      <td>7800000</td>\n",
       "      <td>microempresarial</td>\n",
       "    </tr>\n",
       "    <tr>\n",
       "      <th>3</th>\n",
       "      <td>masculino</td>\n",
       "      <td>servicio</td>\n",
       "      <td>organización y</td>\n",
       "      <td>robledo</td>\n",
       "      <td>2</td>\n",
       "      <td>7.0</td>\n",
       "      <td>8/09/2016</td>\n",
       "      <td>1500000</td>\n",
       "      <td>microempresarial</td>\n",
       "    </tr>\n",
       "    <tr>\n",
       "      <th>4</th>\n",
       "      <td>masculino</td>\n",
       "      <td>servicio</td>\n",
       "      <td>COMIDAS RAPIDAS</td>\n",
       "      <td>20 de julio</td>\n",
       "      <td>2</td>\n",
       "      <td>13.0</td>\n",
       "      <td>20/12/2016</td>\n",
       "      <td>3000000</td>\n",
       "      <td>microempresarial</td>\n",
       "    </tr>\n",
       "    <tr>\n",
       "      <th>...</th>\n",
       "      <td>...</td>\n",
       "      <td>...</td>\n",
       "      <td>...</td>\n",
       "      <td>...</td>\n",
       "      <td>...</td>\n",
       "      <td>...</td>\n",
       "      <td>...</td>\n",
       "      <td>...</td>\n",
       "      <td>...</td>\n",
       "    </tr>\n",
       "    <tr>\n",
       "      <th>10915</th>\n",
       "      <td>femenino</td>\n",
       "      <td>industria</td>\n",
       "      <td>cafeteria</td>\n",
       "      <td>santo domingo savio</td>\n",
       "      <td>1</td>\n",
       "      <td>1.0</td>\n",
       "      <td>22/06/2018</td>\n",
       "      <td>1000000</td>\n",
       "      <td>microempresarial</td>\n",
       "    </tr>\n",
       "    <tr>\n",
       "      <th>10916</th>\n",
       "      <td>femenino</td>\n",
       "      <td>comercio</td>\n",
       "      <td>variedades</td>\n",
       "      <td>villa del socorro</td>\n",
       "      <td>2</td>\n",
       "      <td>2.0</td>\n",
       "      <td>1/04/2019</td>\n",
       "      <td>7000000</td>\n",
       "      <td>microempresarial</td>\n",
       "    </tr>\n",
       "    <tr>\n",
       "      <th>10917</th>\n",
       "      <td>femenino</td>\n",
       "      <td>comercio</td>\n",
       "      <td>comidas rapidas</td>\n",
       "      <td>la libertad</td>\n",
       "      <td>2</td>\n",
       "      <td>8.0</td>\n",
       "      <td>22/05/2018</td>\n",
       "      <td>7812000</td>\n",
       "      <td>microempresarial</td>\n",
       "    </tr>\n",
       "    <tr>\n",
       "      <th>10918</th>\n",
       "      <td>femenino</td>\n",
       "      <td>comercio</td>\n",
       "      <td>almacen de ropa en</td>\n",
       "      <td>caribe</td>\n",
       "      <td>3</td>\n",
       "      <td>5.0</td>\n",
       "      <td>27/02/2019</td>\n",
       "      <td>8281000</td>\n",
       "      <td>microempresarial</td>\n",
       "    </tr>\n",
       "    <tr>\n",
       "      <th>10919</th>\n",
       "      <td>femenino</td>\n",
       "      <td>servicio</td>\n",
       "      <td>fabrica de alimentos</td>\n",
       "      <td>andalucia</td>\n",
       "      <td>2</td>\n",
       "      <td>2.0</td>\n",
       "      <td>8/06/2017</td>\n",
       "      <td>30000000</td>\n",
       "      <td>empresarial ed.</td>\n",
       "    </tr>\n",
       "  </tbody>\n",
       "</table>\n",
       "<p>10920 rows × 9 columns</p>\n",
       "</div>"
      ],
      "text/plain": [
       "            sexo tipo_de_emprendimiento          idea_negocio  \\\n",
       "0      masculino               COMERCIO           charcuteria   \n",
       "1      masculino               comercio     distribuidora de    \n",
       "2      masculino               comercio                tienda   \n",
       "3      masculino               servicio       organización y    \n",
       "4      masculino               servicio       COMIDAS RAPIDAS   \n",
       "...          ...                    ...                   ...   \n",
       "10915   femenino              industria             cafeteria   \n",
       "10916   femenino               comercio            variedades   \n",
       "10917   femenino               comercio       comidas rapidas   \n",
       "10918   femenino               comercio   almacen de ropa en    \n",
       "10919   femenino               servicio  fabrica de alimentos   \n",
       "\n",
       "                       barrio  estrato  comuna_ciudadano fecha_de_beneficio  \\\n",
       "0      manrique central no. 2        1               3.0         28/12/2017   \n",
       "1                 santa lucia        2              12.0         16/03/2018   \n",
       "2                       belen        3              16.0         2018/02/14   \n",
       "3                     robledo        2               7.0          8/09/2016   \n",
       "4                 20 de julio        2              13.0         20/12/2016   \n",
       "...                       ...      ...               ...                ...   \n",
       "10915    santo domingo savio         1               1.0         22/06/2018   \n",
       "10916       villa del socorro        2               2.0          1/04/2019   \n",
       "10917             la libertad        2               8.0         22/05/2018   \n",
       "10918                  caribe        3               5.0         27/02/2019   \n",
       "10919               andalucia        2               2.0          8/06/2017   \n",
       "\n",
       "      monto_del_credito     línea_credito  \n",
       "0               7000000  microempresarial  \n",
       "1        $ 7,000,000.00  microempresarial  \n",
       "2               7800000  microempresarial  \n",
       "3               1500000  microempresarial  \n",
       "4               3000000  microempresarial  \n",
       "...                 ...               ...  \n",
       "10915           1000000  microempresarial  \n",
       "10916           7000000  microempresarial  \n",
       "10917           7812000  microempresarial  \n",
       "10918           8281000  microempresarial  \n",
       "10919          30000000  empresarial ed.   \n",
       "\n",
       "[10920 rows x 9 columns]"
      ]
     },
     "execution_count": 2351,
     "metadata": {},
     "output_type": "execute_result"
    }
   ],
   "source": [
    "df"
   ]
  },
  {
   "cell_type": "code",
   "execution_count": 2352,
   "metadata": {},
   "outputs": [],
   "source": [
    "df = df.drop_duplicates()"
   ]
  },
  {
   "cell_type": "code",
   "execution_count": 2353,
   "metadata": {},
   "outputs": [
    {
     "data": {
      "text/plain": [
       "sexo                        0\n",
       "tipo_de_emprendimiento    102\n",
       "idea_negocio                0\n",
       "barrio                    102\n",
       "estrato                     0\n",
       "comuna_ciudadano            0\n",
       "fecha_de_beneficio          0\n",
       "monto_del_credito           0\n",
       "línea_credito               0\n",
       "dtype: int64"
      ]
     },
     "execution_count": 2353,
     "metadata": {},
     "output_type": "execute_result"
    }
   ],
   "source": [
    "df.isna().sum()"
   ]
  },
  {
   "cell_type": "code",
   "execution_count": 2354,
   "metadata": {},
   "outputs": [],
   "source": [
    "df = df.dropna()"
   ]
  },
  {
   "cell_type": "code",
   "execution_count": 2355,
   "metadata": {},
   "outputs": [],
   "source": [
    "df['tipo_de_emprendimiento'] = df['tipo_de_emprendimiento'].apply(lambda x: str(x).lower())"
   ]
  },
  {
   "cell_type": "code",
   "execution_count": 2356,
   "metadata": {},
   "outputs": [],
   "source": [
    "df['sexo'] = df['sexo'].apply(lambda x: x.lower())"
   ]
  },
  {
   "cell_type": "code",
   "execution_count": 2357,
   "metadata": {},
   "outputs": [],
   "source": [
    "# Idea de negocio\n",
    "\n",
    "def clean_idea_negocio(row):\n",
    "    row = row.lower()\n",
    "    row = row.replace(\"-\", \" \")\n",
    "    row = row.replace(\"_\", \" \")\n",
    "    row = row.strip()\n",
    "\n",
    "    return row\n",
    "\n",
    "df['idea_negocio'] = df['idea_negocio'].apply(clean_idea_negocio)"
   ]
  },
  {
   "cell_type": "code",
   "execution_count": 2358,
   "metadata": {},
   "outputs": [],
   "source": [
    "#df = df.drop_duplicates()"
   ]
  },
  {
   "cell_type": "code",
   "execution_count": 2359,
   "metadata": {},
   "outputs": [
    {
     "data": {
      "text/plain": [
       "' def clean_barrio(row):\\n    row = row.lower()\\n    row = row.strip()\\n    row = row.replace(\"-\", \" \")\\n    row = row.replace(\"_\", \" \")\\n    row = row.replace(\".\", \" \")\\n    row = row.replace(\" \", \"\")\\n\\n    return row\\n\\ndf[\\'barrio\\'] = df[\\'barrio\\'].apply(clean_barrio)\\ndf[\\'barrio\\'].value_counts() '"
      ]
     },
     "execution_count": 2359,
     "metadata": {},
     "output_type": "execute_result"
    }
   ],
   "source": [
    "# Barrio\n",
    "\n",
    "\"\"\" def clean_barrio(row):\n",
    "    row = row.lower()\n",
    "    row = row.strip()\n",
    "    row = row.replace(\"-\", \" \")\n",
    "    row = row.replace(\"_\", \" \")\n",
    "    row = row.replace(\".\", \" \")\n",
    "    row = row.replace(\" \", \"\")\n",
    "\n",
    "    return row\n",
    "\n",
    "df['barrio'] = df['barrio'].apply(clean_barrio)\n",
    "df['barrio'].value_counts() \"\"\""
   ]
  },
  {
   "cell_type": "code",
   "execution_count": 2360,
   "metadata": {},
   "outputs": [],
   "source": [
    "# Estrato\n",
    "\n",
    "# OK"
   ]
  },
  {
   "cell_type": "code",
   "execution_count": 2361,
   "metadata": {},
   "outputs": [],
   "source": [
    "# Comuna\n",
    "\n",
    "df['comuna_ciudadano'] = df['comuna_ciudadano'].astype(float)"
   ]
  },
  {
   "cell_type": "code",
   "execution_count": 2362,
   "metadata": {},
   "outputs": [
    {
     "data": {
      "text/plain": [
       "0        2017/12/28\n",
       "1        2018/03/16\n",
       "2        2018/02/14\n",
       "3         2016/09/8\n",
       "4        2016/12/20\n",
       "            ...    \n",
       "10913     2018/07/4\n",
       "10914    2018/03/20\n",
       "10915    2018/06/22\n",
       "10918    2019/02/27\n",
       "10919     2017/06/8\n",
       "Name: fecha_de_beneficio, Length: 10497, dtype: object"
      ]
     },
     "execution_count": 2362,
     "metadata": {},
     "output_type": "execute_result"
    }
   ],
   "source": [
    "# Fecha\n",
    "\n",
    "def clean_date(row):\n",
    "    row_split = row.split(\"/\")\n",
    "    if len(row_split[0]) <= 2:\n",
    "        row_split[0], row_split[-1] = row_split[-1], row_split[0]\n",
    "\n",
    "    return \"/\".join(row_split)\n",
    "\n",
    "df['fecha_de_beneficio'] = df['fecha_de_beneficio'].apply(clean_date)\n",
    "df['fecha_de_beneficio']"
   ]
  },
  {
   "cell_type": "code",
   "execution_count": 2363,
   "metadata": {},
   "outputs": [],
   "source": [
    "def clean_monto_credito(row):\n",
    "    row = row.replace(\"$\", \"\")\n",
    "    row = row.replace(\".00\", \"\")\n",
    "    row = row.replace(\",\", \"\")\n",
    "    row = row.replace(\" \", \"\")\n",
    "\n",
    "    return row\n",
    "\n",
    "df['monto_del_credito'] = df['monto_del_credito'].apply(clean_monto_credito)\n",
    "df['monto_del_credito'] = df['monto_del_credito'].astype(int)"
   ]
  },
  {
   "cell_type": "code",
   "execution_count": 2364,
   "metadata": {},
   "outputs": [],
   "source": [
    "def clean_linea_credito(row):\n",
    "    row = row.lower()\n",
    "    row = row.replace(\"-\", \" \")\n",
    "    row = row.replace(\"_\", \" \")\n",
    "    row = row.strip()\n",
    "\n",
    "    return row\n",
    "\n",
    "df[\"línea_credito\"] = df[\"línea_credito\"].apply(clean_linea_credito)"
   ]
  },
  {
   "cell_type": "code",
   "execution_count": 2365,
   "metadata": {},
   "outputs": [
    {
     "data": {
      "text/plain": [
       "microempresarial          10307\n",
       "empresarial ed.              71\n",
       "agropecuaria                 56\n",
       "juridica y cap.semilla       33\n",
       "credioportuno                22\n",
       "fomento agropecuario          5\n",
       "solidaria                     1\n",
       "soli diaria                   1\n",
       "ayacucho formal               1\n",
       "Name: línea_credito, dtype: int64"
      ]
     },
     "execution_count": 2365,
     "metadata": {},
     "output_type": "execute_result"
    }
   ],
   "source": [
    "df[\"línea_credito\"].value_counts()"
   ]
  },
  {
   "cell_type": "code",
   "execution_count": 2366,
   "metadata": {},
   "outputs": [
    {
     "data": {
      "text/plain": [
       "10497"
      ]
     },
     "execution_count": 2366,
     "metadata": {},
     "output_type": "execute_result"
    }
   ],
   "source": [
    "len(df)"
   ]
  },
  {
   "cell_type": "code",
   "execution_count": 2367,
   "metadata": {},
   "outputs": [],
   "source": [
    "df = df.drop_duplicates()"
   ]
  },
  {
   "cell_type": "code",
   "execution_count": 2368,
   "metadata": {},
   "outputs": [
    {
     "data": {
      "text/plain": [
       "robledo               994\n",
       "manriquecentralno1    488\n",
       "sanjavierno1          428\n",
       "aranjuez              384\n",
       "belen                 377\n",
       "                     ... \n",
       "lahondonada             1\n",
       "laaldea                 1\n",
       "lasindependencias       1\n",
       "oriente                 1\n",
       "losangeles              1\n",
       "Name: barrio, Length: 223, dtype: int64"
      ]
     },
     "execution_count": 2368,
     "metadata": {},
     "output_type": "execute_result"
    }
   ],
   "source": [
    "def clean_barrio(row):\n",
    "    row = row.lower()\n",
    "    row = row.strip()\n",
    "    row = row.replace(\"-\", \" \")\n",
    "    row = row.replace(\"_\", \" \")\n",
    "    row = row.replace(\".\", \" \")\n",
    "    row = row.replace(\" \", \"\")\n",
    "\n",
    "    return row\n",
    "\n",
    "df['barrio'] = df['barrio'].apply(clean_barrio)\n",
    "df['barrio'].value_counts()"
   ]
  },
  {
   "cell_type": "code",
   "execution_count": 2369,
   "metadata": {},
   "outputs": [
    {
     "data": {
      "text/plain": [
       "10248"
      ]
     },
     "execution_count": 2369,
     "metadata": {},
     "output_type": "execute_result"
    }
   ],
   "source": [
    "len(df)"
   ]
  },
  {
   "cell_type": "code",
   "execution_count": 2370,
   "metadata": {},
   "outputs": [
    {
     "data": {
      "text/plain": [
       "sexo                      0\n",
       "tipo_de_emprendimiento    0\n",
       "idea_negocio              0\n",
       "barrio                    0\n",
       "estrato                   0\n",
       "comuna_ciudadano          0\n",
       "fecha_de_beneficio        0\n",
       "monto_del_credito         0\n",
       "línea_credito             0\n",
       "dtype: int64"
      ]
     },
     "execution_count": 2370,
     "metadata": {},
     "output_type": "execute_result"
    }
   ],
   "source": [
    "df.isna().sum()"
   ]
  },
  {
   "cell_type": "markdown",
   "metadata": {},
   "source": [
    "-------------"
   ]
  },
  {
   "cell_type": "code",
   "execution_count": 2371,
   "metadata": {},
   "outputs": [
    {
     "data": {
      "text/plain": [
       "Index(['sexo', 'tipo_de_emprendimiento', 'idea_negocio', 'barrio', 'estrato',\n",
       "       'comuna_ciudadano', 'fecha_de_beneficio', 'monto_del_credito',\n",
       "       'línea_credito'],\n",
       "      dtype='object')"
      ]
     },
     "execution_count": 2371,
     "metadata": {},
     "output_type": "execute_result"
    }
   ],
   "source": [
    "df.columns"
   ]
  },
  {
   "cell_type": "code",
   "execution_count": 2372,
   "metadata": {},
   "outputs": [
    {
     "data": {
      "text/plain": [
       "comercio        5660\n",
       "servicio        2216\n",
       "industria       2208\n",
       "agropecuaria     164\n",
       "Name: tipo_de_emprendimiento, dtype: int64"
      ]
     },
     "execution_count": 2372,
     "metadata": {},
     "output_type": "execute_result"
    }
   ],
   "source": [
    "df[\"tipo_de_emprendimiento\"].value_counts()"
   ]
  }
 ],
 "metadata": {
  "kernelspec": {
   "display_name": "Python 3.9.7 64-bit",
   "language": "python",
   "name": "python3"
  },
  "language_info": {
   "codemirror_mode": {
    "name": "ipython",
    "version": 3
   },
   "file_extension": ".py",
   "mimetype": "text/x-python",
   "name": "python",
   "nbconvert_exporter": "python",
   "pygments_lexer": "ipython3",
   "version": "3.9.7"
  },
  "orig_nbformat": 4,
  "vscode": {
   "interpreter": {
    "hash": "e7ff8f1df8a21c9a2e6e4eaf996e4b68432b0651a19ed7cd6bd28e8f473e4ff2"
   }
  }
 },
 "nbformat": 4,
 "nbformat_minor": 2
}
